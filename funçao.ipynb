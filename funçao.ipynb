{
  "nbformat": 4,
  "nbformat_minor": 0,
  "metadata": {
    "colab": {
      "provenance": [],
      "authorship_tag": "ABX9TyNRGDXT+Vyg+l9CtZmPCE2g",
      "include_colab_link": true
    },
    "kernelspec": {
      "name": "python3",
      "display_name": "Python 3"
    },
    "language_info": {
      "name": "python"
    }
  },
  "cells": [
    {
      "cell_type": "markdown",
      "metadata": {
        "id": "view-in-github",
        "colab_type": "text"
      },
      "source": [
        "<a href=\"https://colab.research.google.com/github/DiegoBrito17/Analise-de-dados/blob/main/fun%C3%A7ao.ipynb\" target=\"_parent\"><img src=\"https://colab.research.google.com/assets/colab-badge.svg\" alt=\"Open In Colab\"/></a>"
      ]
    },
    {
      "cell_type": "code",
      "source": [
        "def estudar_materia():\n",
        "    disciplinas = []  # Lista vazia para armazenar as matérias\n",
        "    while True:\n",
        "        materia = input('Qual matéria você vai estudar? Caso não queira estudar, digite \"n\": ')\n",
        "\n",
        "        if materia.lower() == 'n':  # Se o usuário digitar 'n', o loop será encerrado\n",
        "            print(\"Você não quer estudar. Até mais!\")\n",
        "            break\n",
        "        else:\n",
        "            disciplinas.append(materia)  # Adiciona a matéria à lista\n",
        "            print(f'Você escolheu estudar a matéria: {materia}')\n",
        "            print(f'Lista de disciplinas: {disciplinas}')  # Mostra a lista de matérias até agora\n",
        "\n",
        "    # Transformando a lista em uma string para exibição\n",
        "    disciplina_str = str(disciplinas)  # Converte a lista em uma string\n",
        "    print(\"\\nLista final de matérias:\")\n",
        "    print(disciplina_str)  # Exibe a lista como uma string\n",
        "\n",
        "# Chama a função para rodar\n",
        "estudar_materia()\n",
        "\n"
      ],
      "metadata": {
        "colab": {
          "base_uri": "https://localhost:8080/"
        },
        "id": "vtTBb90_CYsQ",
        "outputId": "f843c135-2458-4756-f94f-42901ef48808"
      },
      "execution_count": null,
      "outputs": [
        {
          "output_type": "stream",
          "name": "stdout",
          "text": [
            "Qual matéria você vai estudar? Caso não queira estudar, digite \"n\": matema\n",
            "Você escolheu estudar a matéria: matema\n",
            "Lista de disciplinas: ['matema']\n",
            "Qual matéria você vai estudar? Caso não queira estudar, digite \"n\": cienc\n",
            "Você escolheu estudar a matéria: cienc\n",
            "Lista de disciplinas: ['matema', 'cienc']\n",
            "Qual matéria você vai estudar? Caso não queira estudar, digite \"n\": n\n",
            "Você não quer estudar. Até mais!\n",
            "\n",
            "Lista final de matérias:\n",
            "['matema', 'cienc']\n"
          ]
        }
      ]
    }
  ]
}