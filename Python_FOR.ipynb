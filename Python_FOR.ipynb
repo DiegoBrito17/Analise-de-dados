{
  "nbformat": 4,
  "nbformat_minor": 0,
  "metadata": {
    "colab": {
      "provenance": [],
      "authorship_tag": "ABX9TyPeF0q339y2rsnZH4MbmePY",
      "include_colab_link": true
    },
    "kernelspec": {
      "name": "python3",
      "display_name": "Python 3"
    },
    "language_info": {
      "name": "python"
    }
  },
  "cells": [
    {
      "cell_type": "markdown",
      "metadata": {
        "id": "view-in-github",
        "colab_type": "text"
      },
      "source": [
        "<a href=\"https://colab.research.google.com/github/DiegoBrito17/Analise-de-dados/blob/main/Python_FOR.ipynb\" target=\"_parent\"><img src=\"https://colab.research.google.com/assets/colab-badge.svg\" alt=\"Open In Colab\"/></a>"
      ]
    },
    {
      "cell_type": "markdown",
      "source": [
        "#Exercicios com o comando for"
      ],
      "metadata": {
        "id": "GnfivWytAWKw"
      }
    },
    {
      "cell_type": "code",
      "source": [
        "#soma dos numeros dos clintes\n",
        "Soma=0\n",
        "for i in range (1, 3+1):\n",
        "  n=int(input(\"Digite um número:\"))\n",
        "  Soma += n\n",
        "print('A soma é :{}' .format(Soma))\n"
      ],
      "metadata": {
        "colab": {
          "base_uri": "https://localhost:8080/"
        },
        "id": "TwZ-cWJdAhSX",
        "outputId": "67149283-54fe-4f19-f2c9-15efe50dd169"
      },
      "execution_count": 22,
      "outputs": [
        {
          "output_type": "stream",
          "name": "stdout",
          "text": [
            "Digite um número:5\n",
            "Digite um número:4\n",
            "Digite um número:4\n",
            "A soma é :13\n"
          ]
        }
      ]
    },
    {
      "cell_type": "code",
      "source": [
        "#Media dos alunos\n",
        "passo =range(1,3+1)\n",
        "soma =0\n",
        "for i in passo:\n",
        "    n =float(input('Digite o {}°'.format(i)))\n",
        "    soma +=n\n",
        "    print('i ={}, soma ={}'.format(i,soma))\n",
        "media =soma/i\n",
        "print('A media  é de :{}' .format(media))"
      ],
      "metadata": {
        "colab": {
          "base_uri": "https://localhost:8080/"
        },
        "id": "4xd26g9wJSEP",
        "outputId": "5f08fca6-2c79-4532-e312-4ca701841005"
      },
      "execution_count": 41,
      "outputs": [
        {
          "output_type": "stream",
          "name": "stdout",
          "text": [
            "Digite o 1°5\n",
            "i =1, soma =5.0\n",
            "Digite o 2°5\n",
            "i =2, soma =10.0\n",
            "Digite o 3°5\n",
            "i =3, soma =15.0\n",
            "A media  é de :5.0\n"
          ]
        }
      ]
    },
    {
      "cell_type": "code",
      "source": [
        "#pedindo para o cliente digitar a quantidade de numeros.\n",
        "qtd =int(input('Digite a quantidade de numeros que vc quer tirar a média :'))\n",
        "passo=range(1,qtd +1)\n",
        "soma=0\n",
        "for i in passo:\n",
        "  n=float(input('Digite o {}° numero '.format(i)))\n",
        "  soma +=n\n",
        "  print('i ={}, soma ={}'.format(i,soma))\n",
        "media =soma/qtd\n",
        "print('A media  é de :{}' .format(media))"
      ],
      "metadata": {
        "colab": {
          "base_uri": "https://localhost:8080/"
        },
        "id": "WlE_h4LELGlO",
        "outputId": "f04974f1-18ac-488d-d656-b03eb02dd4bb"
      },
      "execution_count": 45,
      "outputs": [
        {
          "output_type": "stream",
          "name": "stdout",
          "text": [
            "Digite a quantidade de numeros que vc quer tirar a média :4\n",
            "Digite o 1° numero 5\n",
            "i =1, soma =5.0\n",
            "Digite o 2° numero 5\n",
            "i =2, soma =10.0\n",
            "Digite o 3° numero 7\n",
            "i =3, soma =17.0\n",
            "Digite o 4° numero 8\n",
            "i =4, soma =25.0\n",
            "A media  é de :6.25\n"
          ]
        }
      ]
    }
  ]
}