{
  "nbformat": 4,
  "nbformat_minor": 0,
  "metadata": {
    "colab": {
      "provenance": [],
      "authorship_tag": "ABX9TyNNWL7GjZhR4CshbGI3w170",
      "include_colab_link": true
    },
    "kernelspec": {
      "name": "python3",
      "display_name": "Python 3"
    },
    "language_info": {
      "name": "python"
    }
  },
  "cells": [
    {
      "cell_type": "markdown",
      "metadata": {
        "id": "view-in-github",
        "colab_type": "text"
      },
      "source": [
        "<a href=\"https://colab.research.google.com/github/DiegoBrito17/Analise-de-dados/blob/main/PythonWhile.ipynb\" target=\"_parent\"><img src=\"https://colab.research.google.com/assets/colab-badge.svg\" alt=\"Open In Colab\"/></a>"
      ]
    },
    {
      "cell_type": "code",
      "execution_count": 5,
      "metadata": {
        "id": "SiBJtTMNM5va",
        "colab": {
          "base_uri": "https://localhost:8080/"
        },
        "outputId": "a378c8d7-5065-4eb4-a3c1-fc55fc89d390"
      },
      "outputs": [
        {
          "output_type": "stream",
          "name": "stdout",
          "text": [
            "Leia a página .\n",
            "Terminou o capitulo ? (s/n)n\n",
            "Leia a página .\n",
            "Terminou o capitulo ? (s/n)n\n",
            "Leia a página .\n",
            "Terminou o capitulo ? (s/n)s\n",
            "Fim\n"
          ]
        }
      ],
      "source": [
        "\"\"\"fim =False\n",
        "while fim == False:\n",
        "  print('execute a açao.')\n",
        "  fim =input('Terminou o capitulo ? (s/n)')\n",
        "print('Fim')\"\"\"\n",
        "\n",
        "#inicio do programa\n",
        "fim ='n'\n",
        "while fim == 'n':\n",
        "  print('Leia a página .')\n",
        "  fim =input('Terminou o capitulo ? (s/n)')\n",
        "print('Fim')"
      ]
    }
  ]
}