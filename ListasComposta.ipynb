{
  "nbformat": 4,
  "nbformat_minor": 0,
  "metadata": {
    "colab": {
      "provenance": [],
      "authorship_tag": "ABX9TyOaO74sXGg+OPxLmt+HSbwl",
      "include_colab_link": true
    },
    "kernelspec": {
      "name": "python3",
      "display_name": "Python 3"
    },
    "language_info": {
      "name": "python"
    }
  },
  "cells": [
    {
      "cell_type": "markdown",
      "metadata": {
        "id": "view-in-github",
        "colab_type": "text"
      },
      "source": [
        "<a href=\"https://colab.research.google.com/github/DiegoBrito17/Analise-de-dados/blob/main/ListasComposta.ipynb\" target=\"_parent\"><img src=\"https://colab.research.google.com/assets/colab-badge.svg\" alt=\"Open In Colab\"/></a>"
      ]
    },
    {
      "cell_type": "code",
      "execution_count": 6,
      "metadata": {
        "colab": {
          "base_uri": "https://localhost:8080/"
        },
        "id": "MLUoYW7eSVxX",
        "outputId": "a3b7f584-2d46-4f87-bf9f-b1098800de9a"
      },
      "outputs": [
        {
          "output_type": "stream",
          "name": "stdout",
          "text": [
            "Cardápio completo: [['Lanche', 10.9], ['Gurana', 5.3], ['Batata', 6.5]]\n",
            "cardapio [0] = ['Lanche', 10.9]\n",
            "cardapio [1]= ['Gurana', 5.3]\n",
            "cardapio[2] = ['Batata', 6.5]\n"
          ]
        }
      ],
      "source": [
        "#Declarando a lista de listas:\n",
        "cardapio =[['Lanche',10.9],['Gurana', 5.30],['Batata' , 6.50]]\n",
        "print(\"Cardápio completo:\", cardapio)\n",
        "\n",
        "\n",
        "print(f\"cardapio [0] = {cardapio[0]}\")\n",
        "print(f'cardapio [1]= {cardapio[1]}')\n",
        "print(f'cardapio[2] = {cardapio[2]}')"
      ]
    },
    {
      "cell_type": "code",
      "source": [
        "\n",
        "\n",
        "##1. Declaração por partes\n",
        "#Declaramos cada sublista separadamente e depois construímos a lista maior:\n",
        "\n",
        "lanche = [\"lanche\", 10.90]\n",
        "batata = [\"batata\", 5.50]\n",
        "\n",
        "cardapio = [lanche, batata] # lista composta\n",
        "\n",
        "\n",
        "##2. Declaração direta\n",
        "\n",
        "#Declaramos a lista composta inteira de uma vez só:\n",
        "\n",
        "cardapio = [[\"lanche\", 10.90],[\"batata\", 5.50]]\n",
        "\n",
        "### 3. Com append\n",
        "#Começamos com uma lista vazia e vamos adicionando as sublists com append:\n",
        "\n",
        "comida = []\n",
        "cardapio = []\n",
        "\n",
        "comida.append(\"lanche\")\n",
        "comida.append(10.90)\n",
        "\n",
        "cardapio.append(comida[:]) # copia comida\n",
        "\n",
        "#O append é útil quando precisamos ler as informações de alguma fonte (input do usuário, arquivos, etc) para construir as listas.\n",
        "# Laços de repetição (for)\n",
        "#Podemos iterar pelos elementos de uma lista composta com um laço for:\n",
        "\n",
        "cardapio = [[\"lanche\", 10.90],[\"batata\", 5.50]]\n",
        "for c in cardapio:\n",
        "  print(c)\n",
        "\n",
        "\n",
        "#A variável `c` irá assumir cada sublista em cada iteração.\n",
        "#Também podemos iterar pelos índices numericamente com range():\n",
        "\n",
        "for i in range(len(cardapio)):\n",
        "  print(cardapio[i])\n",
        "\n",
        "## Acessando elementos em laços\n",
        "#Dentro de um laço que percorre uma lista composta, podemos acessar elementos específicos de cada sublista interna utilizando colchetes aninhados:\n",
        "\n",
        "for c in cardapio:\n",
        " print(f\"Nome: {c[0]}, Preço: {c[1]}\")"
      ],
      "metadata": {
        "colab": {
          "base_uri": "https://localhost:8080/"
        },
        "id": "KYAQ7pT1fuCk",
        "outputId": "54234cca-6fd2-4149-d162-5e04cea5c33f"
      },
      "execution_count": 9,
      "outputs": [
        {
          "output_type": "stream",
          "name": "stdout",
          "text": [
            "['lanche', 10.9]\n",
            "['batata', 5.5]\n",
            "['lanche', 10.9]\n",
            "['batata', 5.5]\n",
            "Nome: lanche, Preço: 10.9\n",
            "Nome: batata, Preço: 5.5\n"
          ]
        }
      ]
    }
  ]
}