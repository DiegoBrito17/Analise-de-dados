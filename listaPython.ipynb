{
  "nbformat": 4,
  "nbformat_minor": 0,
  "metadata": {
    "colab": {
      "provenance": [],
      "authorship_tag": "ABX9TyM9XnAnDFRyXFhw7tM0wpAy",
      "include_colab_link": true
    },
    "kernelspec": {
      "name": "python3",
      "display_name": "Python 3"
    },
    "language_info": {
      "name": "python"
    }
  },
  "cells": [
    {
      "cell_type": "markdown",
      "metadata": {
        "id": "view-in-github",
        "colab_type": "text"
      },
      "source": [
        "<a href=\"https://colab.research.google.com/github/DiegoBrito17/Analise-de-dados/blob/main/listaPython.ipynb\" target=\"_parent\"><img src=\"https://colab.research.google.com/assets/colab-badge.svg\" alt=\"Open In Colab\"/></a>"
      ]
    },
    {
      "cell_type": "code",
      "execution_count": null,
      "metadata": {
        "colab": {
          "base_uri": "https://localhost:8080/"
        },
        "id": "rWsmZtgA-GGA",
        "outputId": "967ad578-9a55-49c6-b1ec-ffb1b04ec4a0"
      },
      "outputs": [
        {
          "output_type": "stream",
          "name": "stdout",
          "text": [
            "['maçã', 'carro', 'arroz', 'bolacha', 'meia']\n",
            "['maçã', 'carro', 'arroz', 'moto', 'meia']\n"
          ]
        }
      ],
      "source": [
        "#declaração de lista:\n",
        "lista=['maçã','carro','arroz','bolacha','meia']\n",
        "print (lista)\n",
        "\n",
        "#substituição de lista.\n",
        "lista[3]='moto'\n",
        "print(lista)\n",
        "\n"
      ]
    },
    {
      "cell_type": "code",
      "source": [
        "#inserindo valores.\n",
        "lista=[1,8,9,6,5]\n",
        "print(lista)\n",
        "lista.append(7)\n",
        "print(lista)\n",
        "\n",
        "#insert\n",
        "lista=['moto','bicicleta','disco','avião']\n",
        "lista.insert(4,'trator')\n",
        "print(lista)\n",
        "\n",
        "#deletando valorees.\n",
        "lista=['avião','carro','moto','bicicleta']\n",
        "del lista[2]\n",
        "print(lista)\n",
        "\n",
        "#deletando com o pop\n",
        "lista=['avião','carro','moto','bicicleta']\n",
        "excluido=lista.pop(1)\n",
        "print(f'O item excluido foi o {excluido}')\n",
        "print(lista)\n",
        "\n",
        "#deletando com o remove\n",
        "lista=['avião','carro','moto','bicicleta']\n",
        "lista.remove('bicicleta')\n",
        "print(lista)\n",
        "\n"
      ],
      "metadata": {
        "colab": {
          "base_uri": "https://localhost:8080/"
        },
        "id": "EWUGJn1_QUCh",
        "outputId": "31f4b10a-b0dc-4fc8-d594-d5b8b52e2fdf"
      },
      "execution_count": null,
      "outputs": [
        {
          "output_type": "stream",
          "name": "stdout",
          "text": [
            "[1, 8, 9, 6, 5]\n",
            "[1, 8, 9, 6, 5, 7]\n",
            "['moto', 'bicicleta', 'disco', 'avião', 'trator']\n",
            "['avião', 'carro', 'bicicleta']\n",
            "O item excluido foi o carro\n",
            "['avião', 'moto', 'bicicleta']\n",
            "['avião', 'carro', 'moto']\n"
          ]
        }
      ]
    },
    {
      "cell_type": "code",
      "source": [
        "#contando a lista\n",
        "lista2=[ 1, 8, 9, 6, 5, 7,'moto', 'bicicleta', 'disco', 'avião', 'trator']\n",
        "listaqtd=len(lista2)\n",
        "print(listaqtd)"
      ],
      "metadata": {
        "colab": {
          "base_uri": "https://localhost:8080/"
        },
        "id": "slgkUDr5UOMm",
        "outputId": "76430c12-0b30-4d4c-fd60-63d6923fbcea"
      },
      "execution_count": null,
      "outputs": [
        {
          "output_type": "stream",
          "name": "stdout",
          "text": [
            "11\n"
          ]
        }
      ]
    },
    {
      "cell_type": "code",
      "source": [
        "lista =[1, 8,7,8,75,88,5,8,98,12,8]\n",
        "for i in lista:\n",
        "  if 8 in lista:\n",
        "    lista.remove(8)\n",
        "    print(lista)\n",
        "print('essa lista é quando o print está fora do laço de repetição')\n",
        "print(lista)"
      ],
      "metadata": {
        "colab": {
          "base_uri": "https://localhost:8080/"
        },
        "id": "lNBiY9V3VlT1",
        "outputId": "ce110ca1-2e15-494d-a7b6-0690fc0ccd68"
      },
      "execution_count": null,
      "outputs": [
        {
          "output_type": "stream",
          "name": "stdout",
          "text": [
            "[1, 7, 8, 75, 88, 5, 8, 98, 12, 8]\n",
            "[1, 7, 75, 88, 5, 8, 98, 12, 8]\n",
            "[1, 7, 75, 88, 5, 98, 12, 8]\n",
            "[1, 7, 75, 88, 5, 98, 12]\n",
            "essa lista é quando o print está fora do laço de repetição\n",
            "[1, 7, 75, 88, 5, 98, 12]\n"
          ]
        }
      ]
    },
    {
      "cell_type": "code",
      "source": [
        "#ordenação de lista.\n",
        "print('Lista Desordenada:')\n",
        "lista=[1,8,5,9,6,4,0,2,7]\n",
        "print (lista)\n",
        "l2=sorted(lista)#o .sorted vai mudar a variável original diferente do =>.sort\n",
        "print('Lista Ordenada:')\n",
        "print(l2)\n",
        "\n",
        "#lista reversa\n",
        "lista=[1,8,5,9,6,4,0,2,7]\n",
        "lista.sort(reverse=True)\n",
        "print('Lista Reversa')\n",
        "print(lista)"
      ],
      "metadata": {
        "colab": {
          "base_uri": "https://localhost:8080/"
        },
        "id": "swlTs7yRYDMU",
        "outputId": "53dba761-7ccc-454c-feb4-da162024c733"
      },
      "execution_count": null,
      "outputs": [
        {
          "output_type": "stream",
          "name": "stdout",
          "text": [
            "Lista Desordenada:\n",
            "[1, 8, 5, 9, 6, 4, 0, 2, 7]\n",
            "Lista Ordenada:\n",
            "[0, 1, 2, 4, 5, 6, 7, 8, 9]\n",
            "Lista Reversa\n",
            "[9, 8, 7, 6, 5, 4, 2, 1, 0]\n"
          ]
        }
      ]
    },
    {
      "cell_type": "code",
      "source": [
        "#lista vazia sendo preenchia pelos dados do usuáruio através do input\n",
        "lista =[]\n",
        "for i in range(1,6):\n",
        "   lista.append(input('Digite o {}° numero :'.format(i)))\n",
        "\n",
        "print(lista)"
      ],
      "metadata": {
        "colab": {
          "base_uri": "https://localhost:8080/"
        },
        "id": "Xpj_yT_taRXr",
        "outputId": "e70fe263-5a4a-4f13-bb29-5791b9feee63"
      },
      "execution_count": null,
      "outputs": [
        {
          "output_type": "stream",
          "name": "stdout",
          "text": [
            "Digite o 1° numero :4\n",
            "Digite o 2° numero :56\n",
            "Digite o 3° numero :8\n",
            "Digite o 4° numero :5\n",
            "Digite o 5° numero :5\n",
            "['4', '56', '8', '5', '5']\n"
          ]
        }
      ]
    },
    {
      "cell_type": "code",
      "source": [
        "\n",
        "eixox=list(range(0,100+1,1))\n",
        "for i in eixox:\n",
        "  eixox[i] = eixox[i]/10\n",
        "print(eixox)"
      ],
      "metadata": {
        "colab": {
          "base_uri": "https://localhost:8080/"
        },
        "id": "nTWze8chdBsC",
        "outputId": "77f27157-f901-455b-896d-8790b6295375"
      },
      "execution_count": null,
      "outputs": [
        {
          "output_type": "stream",
          "name": "stdout",
          "text": [
            "[0.0, 0.1, 0.2, 0.3, 0.4, 0.5, 0.6, 0.7, 0.8, 0.9, 1.0, 1.1, 1.2, 1.3, 1.4, 1.5, 1.6, 1.7, 1.8, 1.9, 2.0, 2.1, 2.2, 2.3, 2.4, 2.5, 2.6, 2.7, 2.8, 2.9, 3.0, 3.1, 3.2, 3.3, 3.4, 3.5, 3.6, 3.7, 3.8, 3.9, 4.0, 4.1, 4.2, 4.3, 4.4, 4.5, 4.6, 4.7, 4.8, 4.9, 5.0, 5.1, 5.2, 5.3, 5.4, 5.5, 5.6, 5.7, 5.8, 5.9, 6.0, 6.1, 6.2, 6.3, 6.4, 6.5, 6.6, 6.7, 6.8, 6.9, 7.0, 7.1, 7.2, 7.3, 7.4, 7.5, 7.6, 7.7, 7.8, 7.9, 8.0, 8.1, 8.2, 8.3, 8.4, 8.5, 8.6, 8.7, 8.8, 8.9, 9.0, 9.1, 9.2, 9.3, 9.4, 9.5, 9.6, 9.7, 9.8, 9.9, 10.0]\n"
          ]
        }
      ]
    },
    {
      "cell_type": "code",
      "source": [
        "#Declarando as litas\n",
        "#Enumerate\n",
        "l1=[0,2,3,5,8,9]\n",
        "l2=[2,5,8,9,10,5]\n",
        "l3=list()\n",
        "\n",
        "for i ,valor in enumerate(l1):\n",
        "  print('l1 [{}] ={} e l2[{}] ={}'.format(i,l1[i], i, l2[i]))\n",
        "  l3.append(l1[i]+l2[i])\n",
        "print(l3)"
      ],
      "metadata": {
        "colab": {
          "base_uri": "https://localhost:8080/"
        },
        "id": "PhTp961bq_kk",
        "outputId": "d5b6d554-93e8-48dd-dcaa-47374392d2e3"
      },
      "execution_count": 8,
      "outputs": [
        {
          "output_type": "stream",
          "name": "stdout",
          "text": [
            "l1 [0] =0 e l2[0] =2\n",
            "l1 [1] =2 e l2[1] =5\n",
            "l1 [2] =3 e l2[2] =8\n",
            "l1 [3] =5 e l2[3] =9\n",
            "l1 [4] =8 e l2[4] =10\n",
            "l1 [5] =9 e l2[5] =5\n",
            "[2, 7, 11, 14, 18, 14]\n"
          ]
        }
      ]
    },
    {
      "cell_type": "code",
      "source": [
        "#Declarando as litas\n",
        "#ZIP\n",
        "l1=[0,2,3,5,8,9]\n",
        "l2=[2,5,8,9,10,5]\n",
        "l3=list()\n",
        "\n",
        "for v1, v2 in zip(l1,l2):\n",
        "  l3.append(v1+v2)\n",
        "print(l3)"
      ],
      "metadata": {
        "colab": {
          "base_uri": "https://localhost:8080/"
        },
        "id": "bSikc79ffjy6",
        "outputId": "6b8bb7b1-69b9-43c6-f3f5-993e6d2eae8c"
      },
      "execution_count": 10,
      "outputs": [
        {
          "output_type": "stream",
          "name": "stdout",
          "text": [
            "[2, 7, 11, 14, 18, 14]\n"
          ]
        }
      ]
    },
    {
      "cell_type": "code",
      "source": [
        "# Listas de preços e quantidades\n",
        "preco = (10.9, 5.40, 8.30, 3.40)\n",
        "qtdCompra = [0, 0, 0, 0]  # Quantidade inicial de cada produto é zero\n",
        "\n",
        "# Lista para armazenar o total de cada item escolhido\n",
        "l3 = []\n",
        "\n",
        "# Dicionário para mostrar opções para o usuário\n",
        "produtos = {1: \"Lanche\", 2: \"Refri\", 3: \"Batata\", 4: \"Bombom\"}\n",
        "\n",
        "# Loop para pedir ao usuário o que ele quer comprar\n",
        "while True:\n",
        "    try:\n",
        "        escolha = int(input(\"Qual produto você quer (1-Lanche, 2-Refri, 3-Batata, 4-Bombom)? Ou digite 0 para sair: \"))\n",
        "\n",
        "        if escolha == 0:\n",
        "            # Sai do loop se o usuário digitar 0\n",
        "            break\n",
        "        elif escolha in produtos:\n",
        "            quantidade = int(input(f\"Quantos {produtos[escolha]}(s) você quer? \"))\n",
        "            qtdCompra[escolha - 1] += quantidade\n",
        "        else:\n",
        "            print(\"Escolha inválida. Tente novamente.\")\n",
        "    except ValueError:\n",
        "        print(\"Entrada inválida. Digite um número.\")\n",
        "\n",
        "# Calcula o total de cada item com base na quantidade comprada\n",
        "for v1, v2 in zip(preco, qtdCompra):\n",
        "    l3.append(v1 * v2)  # Multiplica o preço pela quantidade comprada\n",
        "\n",
        "# Soma o valor total dos itens comprados\n",
        "soma_total = sum(l3)\n",
        "print(\"O custo total é: R$ {:.2f}\".format(soma_total))\n"
      ],
      "metadata": {
        "colab": {
          "base_uri": "https://localhost:8080/"
        },
        "id": "G4e7OSTUyobQ",
        "outputId": "63090767-e074-45fe-eb5a-d3e7dcff4c34"
      },
      "execution_count": 3,
      "outputs": [
        {
          "output_type": "stream",
          "name": "stdout",
          "text": [
            "Qual produto você quer (1-Lanche, 2-Refri, 3-Batata, 4-Bombom)? Ou digite 0 para sair: 2\n",
            "Quantos Refri(s) você quer? 3\n",
            "Qual produto você quer (1-Lanche, 2-Refri, 3-Batata, 4-Bombom)? Ou digite 0 para sair: 3\n",
            "Quantos Batata(s) você quer? 5\n",
            "Qual produto você quer (1-Lanche, 2-Refri, 3-Batata, 4-Bombom)? Ou digite 0 para sair: 0\n",
            "O custo total é: R$ 57.70\n"
          ]
        }
      ]
    }
  ]
}