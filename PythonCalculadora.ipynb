{
  "nbformat": 4,
  "nbformat_minor": 0,
  "metadata": {
    "colab": {
      "provenance": [],
      "authorship_tag": "ABX9TyMU1aI3IBwbLCfm85f4tNMv",
      "include_colab_link": true
    },
    "kernelspec": {
      "name": "python3",
      "display_name": "Python 3"
    },
    "language_info": {
      "name": "python"
    }
  },
  "cells": [
    {
      "cell_type": "markdown",
      "metadata": {
        "id": "view-in-github",
        "colab_type": "text"
      },
      "source": [
        "<a href=\"https://colab.research.google.com/github/DiegoBrito17/Analise-de-dados/blob/main/PythonCalculadora.ipynb\" target=\"_parent\"><img src=\"https://colab.research.google.com/assets/colab-badge.svg\" alt=\"Open In Colab\"/></a>"
      ]
    },
    {
      "cell_type": "code",
      "execution_count": 23,
      "metadata": {
        "colab": {
          "base_uri": "https://localhost:8080/"
        },
        "id": "OAwdBmygGw2C",
        "outputId": "da34c197-4ebb-493d-e69a-2c0596c280e9"
      },
      "outputs": [
        {
          "output_type": "stream",
          "name": "stdout",
          "text": [
            "Digite o operador (+, -, *, /): +\n",
            "Digite um numero para saber a tabuada: 8\n",
            "8 + 1 = 9\n",
            "8 + 2 = 10\n",
            "8 + 3 = 11\n",
            "8 + 4 = 12\n",
            "8 + 5 = 13\n",
            "8 + 6 = 14\n",
            "8 + 7 = 15\n",
            "8 + 8 = 16\n",
            "8 + 9 = 17\n",
            "8 + 10 = 18\n",
            "Você quer continuar (s/n)? s\n",
            "Digite o operador (+, -, *, /): *\n",
            "Digite um numero para saber a tabuada: 7\n",
            "7 * 1 = 7\n",
            "7 * 2 = 14\n",
            "7 * 3 = 21\n",
            "7 * 4 = 28\n",
            "7 * 5 = 35\n",
            "7 * 6 = 42\n",
            "7 * 7 = 49\n",
            "7 * 8 = 56\n",
            "7 * 9 = 63\n",
            "7 * 10 = 70\n",
            "Você quer continuar (s/n)? n\n",
            "fim\n"
          ]
        }
      ],
      "source": [
        "#Programa para criar uma calculadora\n",
        "\n",
        "while True:\n",
        "    op = input('Digite o operador (+, -, *, /): ')\n",
        "    tb = int(input('Digite um numero para saber a tabuada: '))\n",
        "\n",
        "    for i in range(1, 11):\n",
        "        if op == '+':\n",
        "            print(f'{tb} + {i} = {tb + i}')\n",
        "        elif op == '-':\n",
        "            print(f'{tb} - {i} = {tb - i}')\n",
        "        elif op == '*':\n",
        "            print(f'{tb} * {i} = {tb * i}')\n",
        "        elif op == '/':\n",
        "            print(f'{tb} / {i} = {tb / i}')\n",
        "        else:\n",
        "            print('Operador inválido!')\n",
        "            break  # Exit inner loop if operator is invalid\n",
        "\n",
        "    Res = input('Você quer continuar (s/n)? ')\n",
        "    if Res.lower() == 'n':\n",
        "        break  # Exit outer loop if user enters 'n'\n",
        "\n",
        "print('fim')"
      ]
    }
  ]
}