{
  "nbformat": 4,
  "nbformat_minor": 0,
  "metadata": {
    "colab": {
      "provenance": [],
      "toc_visible": true,
      "authorship_tag": "ABX9TyMr2+LJMhWzBxaqaBWLX5HA",
      "include_colab_link": true
    },
    "kernelspec": {
      "name": "python3",
      "display_name": "Python 3"
    },
    "language_info": {
      "name": "python"
    }
  },
  "cells": [
    {
      "cell_type": "markdown",
      "metadata": {
        "id": "view-in-github",
        "colab_type": "text"
      },
      "source": [
        "<a href=\"https://colab.research.google.com/github/DiegoBrito17/Analise-de-dados/blob/main/Python_001.ipynb\" target=\"_parent\"><img src=\"https://colab.research.google.com/assets/colab-badge.svg\" alt=\"Open In Colab\"/></a>"
      ]
    },
    {
      "cell_type": "markdown",
      "source": [
        "Seu primeiro desafio é desenvolver um programa para um depósito de\n",
        "bebidas que valide venda de bebidas para maiores de idade (maior ou\n",
        "igual 18 anos) no mercado, o programa deve receber do usuário os\n",
        "valores do nome e ano que ele nasceu e retornar se ele pode comprar\n",
        "bebidas"
      ],
      "metadata": {
        "id": "YJDy__gQmM86"
      }
    },
    {
      "cell_type": "code",
      "source": [
        "#pegando os dados do cliente através do comando input.\n",
        "usuario =input('Digite seu nome :')\n",
        "ano_nascimento =int(input('digite o ano que você nasceu :'))\n",
        "idade = 2024-ano_nascimento\n",
        "print('O Nome é {0} o ano de nascimento é :{1}'.format(usuario,ano_nascimento))"
      ],
      "metadata": {
        "id": "Yu5NBnHRmTtj",
        "colab": {
          "base_uri": "https://localhost:8080/"
        },
        "outputId": "a25cf18b-fb26-4b76-b89d-2e96ef4c441e"
      },
      "execution_count": 14,
      "outputs": [
        {
          "output_type": "stream",
          "name": "stdout",
          "text": [
            "Digite seu nome :diego\n",
            "digite o ano que você nasceu :2018\n",
            "O Nome é diego o ano de nascimento é :2018\n"
          ]
        }
      ]
    },
    {
      "cell_type": "code",
      "source": [
        "#comparando a idade para saber se pode comprar bebidas alcoolicas\n",
        "if idade>=18:\n",
        "    print('Você pode comprar bebidas alcoolicas')\n",
        "else:\n",
        "    print('Você não pode comprar bebidas alcoolicas')"
      ],
      "metadata": {
        "colab": {
          "base_uri": "https://localhost:8080/"
        },
        "id": "ToHJV8SVsx0d",
        "outputId": "17f85bfe-9a09-4dc8-895e-af3360cf280d"
      },
      "execution_count": 15,
      "outputs": [
        {
          "output_type": "stream",
          "name": "stdout",
          "text": [
            "Você não pode comprar bebidas alcoolicas\n"
          ]
        }
      ]
    },
    {
      "cell_type": "markdown",
      "source": [
        "Esse bimestre na faculdade você precisa tirar nota 8 de média para\n",
        "passar na matéria, desenvolva um script que leia a nota de suas\n",
        "últimas 3 provas, tire a média delas e verifique se você passou.\n"
      ],
      "metadata": {
        "id": "BbMvwzwcttDF"
      }
    },
    {
      "cell_type": "code",
      "source": [
        "##pegando os dados do cliente através do comando input.\n",
        "nota1=float(input('Digite a sua primeira nota :'))\n",
        "nota2= float(input('Digite a sua segunda nota :'))\n",
        "nota3=float(input('Digite a sua tercira nota :'))\n",
        "media =(nota1+nota2+nota3)/3\n",
        "if media>=8:\n",
        "            print('Parabéns vc foi aprovado')\n",
        "else:\n",
        "            print('Infelizmente você foi reprovado')\n",
        "print('A sua média é :{:.2f}'.format(media))"
      ],
      "metadata": {
        "colab": {
          "base_uri": "https://localhost:8080/"
        },
        "id": "bFyAW2ijty-V",
        "outputId": "4f55c4af-6c5d-4292-a810-e2265f3bf3cd"
      },
      "execution_count": 22,
      "outputs": [
        {
          "output_type": "stream",
          "name": "stdout",
          "text": [
            "Digite a sua primeira nota :8\n",
            "Digite a sua segunda nota :8\n",
            "Digite a sua tercira nota :9\n",
            "Parabéns vc foi aprovado\n",
            "A sua média é :8.33\n"
          ]
        }
      ]
    },
    {
      "cell_type": "markdown",
      "source": [
        "A fisioterapeuta que você vai gosta muito de brincar com números, e\n",
        "pediu para você criar um sistema que verifique se a altura inserida é\n",
        "par ou impar.\n"
      ],
      "metadata": {
        "id": "ILy0FhMVwCdk"
      }
    },
    {
      "cell_type": "code",
      "source": [
        "#pegando os dados do cliente através do comando input para saber a altura.\n",
        "altura=float(input('Qual é a sua altura :'))\n",
        "if altura%2==0:\n",
        "    print('A sua altura é par')\n",
        "else:\n",
        "    print('A sua altura é impar')\n",
        "\n",
        "print('A sua altura é {}:'.format(altura))\n"
      ],
      "metadata": {
        "colab": {
          "base_uri": "https://localhost:8080/"
        },
        "id": "_ha6mq65wD1N",
        "outputId": "fe784c2b-512b-4d9e-99b5-b63660704a67"
      },
      "execution_count": 36,
      "outputs": [
        {
          "output_type": "stream",
          "name": "stdout",
          "text": [
            "Qual é a sua altura :178\n",
            "A sua altura é par\n",
            "A sua altura é 178.0:\n"
          ]
        }
      ]
    },
    {
      "cell_type": "markdown",
      "source": [
        "Faça um script que você coloque a quantidade de dias e descubra em\n",
        "qual trimestre esse dia está no ano.\n"
      ],
      "metadata": {
        "id": "2UwJpHhZ0t0j"
      }
    },
    {
      "cell_type": "code",
      "source": [
        "#pegando os dados do cliente através do comando input para saber a quantidade de dias.\n",
        "Qtd_dias =int(input('Digite a quantidade de dias :'))\n",
        "if Qtd_dias<=90:\n",
        "  print('Estamos no primeiro trimestre .')\n",
        "elif Qtd_dias >90 & Qtd_dias <=180:\n",
        "  print('Estamos no segundo trimestre .')\n",
        "elif Qtd_dias >180 % Qtd_dias <=270 :\n",
        "  print('Estamos no terceiro trimestre .')\n",
        "else:\n",
        "  print('Estamos no quarto trimestre .')"
      ],
      "metadata": {
        "colab": {
          "base_uri": "https://localhost:8080/"
        },
        "id": "YU-mQnrc0uvT",
        "outputId": "16627149-792e-40bd-d8f0-12f8ed11cf90"
      },
      "execution_count": 39,
      "outputs": [
        {
          "output_type": "stream",
          "name": "stdout",
          "text": [
            "Digite a quantidade de dias :45\n",
            "Estamos no primeiro trimestre .\n"
          ]
        }
      ]
    },
    {
      "cell_type": "markdown",
      "source": [
        "Desenvolva um sistema que leia 3 números e diga qual é o maior (se\n",
        "houver empate, exiba os empatados).\n"
      ],
      "metadata": {
        "id": "NCbBcxGJ2yk5"
      }
    },
    {
      "cell_type": "code",
      "source": [
        "n1 =int(input('Digite o preimeiro numero :'))\n",
        "n2 = int(input('Digite os segundo numero :'))\n",
        "n3 =int (input('Digite o terceiro numero :'))\n",
        "if n1>n2 and n1>n3:\n",
        "  print('O numero {} é maior .'.format(n1))\n",
        "elif n2>n1 and n2> n3:\n",
        "  print('O numero {} é maior'. format(n2))\n",
        "elif n3>n1 and n3>n2:\n",
        "  print ('O numero {} é maior '. format(n3))\n",
        "else:\n",
        "  if n1==n2 and n1  ==n3:\n",
        "    print ('os numero são empates {}, {},{}'.format((n1),(n2),(n3)))\n",
        "  elif n1==n2:\n",
        "    print('os numero são empates {}, {}'.format((n1),(n2)))\n",
        "  elif n1==n3:\n",
        "    print('os numero são empates {}, {}'.format((n1),(n3)))\n",
        "  elif n2 ==n3:\n",
        "    print('Os números {} e {} são iguais e maiores.'.format(n2, n3))\n",
        ""
      ],
      "metadata": {
        "colab": {
          "base_uri": "https://localhost:8080/"
        },
        "id": "mbkhnZkL2zf0",
        "outputId": "a6700865-b1bd-4f2a-ed0e-41321060d802"
      },
      "execution_count": 51,
      "outputs": [
        {
          "output_type": "stream",
          "name": "stdout",
          "text": [
            "Digite o preimeiro numero :5\n",
            "Digite os segundo numero :2\n",
            "Digite o terceiro numero :2\n",
            "O numero 5 é maior .\n"
          ]
        }
      ]
    }
  ]
}