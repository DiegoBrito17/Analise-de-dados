{
  "nbformat": 4,
  "nbformat_minor": 0,
  "metadata": {
    "colab": {
      "provenance": [],
      "authorship_tag": "ABX9TyMCUZeFReToNdOG3w2pZYKG",
      "include_colab_link": true
    },
    "kernelspec": {
      "name": "python3",
      "display_name": "Python 3"
    },
    "language_info": {
      "name": "python"
    }
  },
  "cells": [
    {
      "cell_type": "markdown",
      "metadata": {
        "id": "view-in-github",
        "colab_type": "text"
      },
      "source": [
        "<a href=\"https://colab.research.google.com/github/DiegoBrito17/Analise-de-dados/blob/main/analisandoDadosFutebol.ipynb\" target=\"_parent\"><img src=\"https://colab.research.google.com/assets/colab-badge.svg\" alt=\"Open In Colab\"/></a>"
      ]
    },
    {
      "cell_type": "code",
      "execution_count": null,
      "metadata": {
        "id": "a4C1R4gyCdm_"
      },
      "outputs": [],
      "source": [
        "import pandas as pd\n",
        "import matplotlib.pyplot as plt\n",
        "import seaborn as sns\n",
        "\n",
        "# Suponha que temos um DataFrame 'brasileirao_data' com as seguintes colunas:\n",
        "# 'season', 'team', 'goals_scored', 'goals_conceded', 'matches_played', 'home_wins', 'away_wins', 'draws'\n",
        "\n",
        "# 1. Análise de Gols por Temporada\n",
        "goals_by_season = brasileirao_data.groupby('season').agg({\n",
        "    'goals_scored': 'sum',\n",
        "    'goals_conceded': 'sum'\n",
        "}).reset_index()\n",
        "\n",
        "plt.figure(figsize=(10, 6))\n",
        "sns.lineplot(data=goals_by_season, x='season', y='goals_scored', label=\"Gols Marcados\")\n",
        "sns.lineplot(data=goals_by_season, x='season', y='goals_conceded', label=\"Gols Sofridos\")\n",
        "plt.title(\"Gols Marcados e Sofridos no Brasileirão por Temporada\")\n",
        "plt.xlabel(\"Temporada\")\n",
        "plt.ylabel(\"Total de Gols\")\n",
        "plt.legend()\n",
        "plt.show()\n",
        "\n",
        "# 2. Desempenho Defensivo dos Principais Times\n",
        "top_defensive_teams = brasileirao_data.groupby('team').agg({\n",
        "    'goals_conceded': 'mean'\n",
        "}).sort_values(by='goals_conceded').head(10).reset_index()\n",
        "\n",
        "plt.figure(figsize=(10, 6))\n",
        "sns.barplot(data=top_defensive_teams, x='goals_conceded', y='team', palette=\"Blues_r\")\n",
        "plt.title(\"Times com Menor Média de Gols Sofridos (Últimos 10 Anos)\")\n",
        "plt.xlabel(\"Média de Gols Sofridos por Partida\")\n",
        "plt.ylabel(\"Time\")\n",
        "plt.show()\n",
        "\n",
        "# 3. Aproveitamento em Casa vs. Fora de Casa\n",
        "brasileirao_data['home_vs_away_ratio'] = brasileirao_data['home_wins'] / (brasileirao_data['away_wins'] + 1)\n",
        "\n",
        "plt.figure(figsize=(10, 6))\n",
        "sns.histplot(data=brasileirao_data, x='home_vs_away_ratio', bins=20, kde=True)\n",
        "plt.title(\"Distribuição do Aproveitamento em Casa vs Fora (Últimos 10 Anos)\")\n",
        "plt.xlabel(\"Razão de Vitórias em Casa / Fora\")\n",
        "plt.show()\n"
      ]
    }
  ]
}